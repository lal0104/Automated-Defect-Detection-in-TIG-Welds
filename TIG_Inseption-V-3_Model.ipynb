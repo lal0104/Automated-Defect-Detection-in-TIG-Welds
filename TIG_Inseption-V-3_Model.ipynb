{
 "cells": [
  {
   "cell_type": "code",
   "execution_count": 1,
   "id": "38a7c34b",
   "metadata": {},
   "outputs": [],
   "source": [
    "import numpy as np\n",
    "import matplotlib.pyplot as plt\n",
    "import os\n",
    "import cv2\n",
    "import os\n",
    "import json\n",
    "from PIL import Image\n",
    "import pickle"
   ]
  },
  {
   "cell_type": "code",
   "execution_count": 2,
   "id": "69a3ff44",
   "metadata": {},
   "outputs": [],
   "source": [
    "A = np.array(pickle.load(open(\"D:/tig_welding_dataset/al5083/train_short/A.pickle\",\"rb\")))\n",
    "\n",
    "B= np.array(pickle.load(open(\"D:/tig_welding_dataset/al5083/train_short/B.pickle\",\"rb\")))"
   ]
  },
  {
   "cell_type": "code",
   "execution_count": 3,
   "id": "c3315062",
   "metadata": {},
   "outputs": [],
   "source": [
    "IMG_SIZE_1=400\n",
    "IMG_SIZE_2=487"
   ]
  },
  {
   "cell_type": "code",
   "execution_count": 5,
   "id": "d91bf1c8",
   "metadata": {},
   "outputs": [
    {
     "name": "stdout",
     "output_type": "stream",
     "text": [
      "Epoch 1/5\n",
      "115/115 [==============================] - 178s 2s/step - loss: 102091475430257197056.0000 - accuracy: 0.7086 - val_loss: 1656.1923 - val_accuracy: 0.6829\n",
      "Epoch 2/5\n",
      "115/115 [==============================] - 166s 1s/step - loss: 6200.5728 - accuracy: 0.7286 - val_loss: 1.1767 - val_accuracy: 0.6899\n",
      "Epoch 3/5\n",
      "115/115 [==============================] - 164s 1s/step - loss: 1698955919360.0000 - accuracy: 0.7286 - val_loss: 1.0534 - val_accuracy: 0.6829\n",
      "Epoch 4/5\n",
      "115/115 [==============================] - 161s 1s/step - loss: 0.9516 - accuracy: 0.7339 - val_loss: 0.9694 - val_accuracy: 0.6829\n",
      "Epoch 5/5\n",
      "115/115 [==============================] - 165s 1s/step - loss: 0.8783 - accuracy: 0.7339 - val_loss: 0.9144 - val_accuracy: 0.6829\n",
      "Epoch 1/5\n",
      "115/115 [==============================] - 190s 2s/step - loss: 0.7298 - accuracy: 0.7339 - val_loss: 0.7163 - val_accuracy: 0.6829\n",
      "Epoch 2/5\n",
      "115/115 [==============================] - 178s 2s/step - loss: 0.6358 - accuracy: 0.7339 - val_loss: 0.6784 - val_accuracy: 0.6829\n",
      "Epoch 3/5\n",
      "115/115 [==============================] - 173s 2s/step - loss: 0.6109 - accuracy: 0.7339 - val_loss: 0.6551 - val_accuracy: 0.6829\n",
      "Epoch 4/5\n",
      "115/115 [==============================] - 175s 2s/step - loss: 0.6003 - accuracy: 0.7339 - val_loss: 0.6460 - val_accuracy: 0.6829\n",
      "Epoch 5/5\n",
      "115/115 [==============================] - 170s 1s/step - loss: 0.5948 - accuracy: 0.7339 - val_loss: 0.6457 - val_accuracy: 0.6829\n",
      "Epoch 1/5\n",
      "115/115 [==============================] - 170s 1s/step - loss: 0.5917 - accuracy: 0.7339 - val_loss: 0.6447 - val_accuracy: 0.6829\n",
      "Epoch 2/5\n",
      "115/115 [==============================] - 162s 1s/step - loss: 0.5913 - accuracy: 0.7339 - val_loss: 0.6442 - val_accuracy: 0.6829\n",
      "Epoch 3/5\n",
      "115/115 [==============================] - 165s 1s/step - loss: 0.5911 - accuracy: 0.7339 - val_loss: 0.6440 - val_accuracy: 0.6829\n",
      "Epoch 4/5\n",
      "115/115 [==============================] - 164s 1s/step - loss: 0.5910 - accuracy: 0.7339 - val_loss: 0.6438 - val_accuracy: 0.6829\n",
      "Epoch 5/5\n",
      "115/115 [==============================] - 163s 1s/step - loss: 0.5908 - accuracy: 0.7339 - val_loss: 0.6435 - val_accuracy: 0.6829\n",
      "Epoch 1/5\n",
      "115/115 [==============================] - 228s 2s/step - loss: 0.5867 - accuracy: 0.7339 - val_loss: 0.6361 - val_accuracy: 0.6829\n",
      "Epoch 2/5\n",
      "115/115 [==============================] - 219s 2s/step - loss: 0.5826 - accuracy: 0.7339 - val_loss: 0.6339 - val_accuracy: 0.6829\n",
      "Epoch 3/5\n",
      "115/115 [==============================] - 215s 2s/step - loss: 0.5812 - accuracy: 0.7339 - val_loss: 0.6334 - val_accuracy: 0.6829\n",
      "Epoch 4/5\n",
      "115/115 [==============================] - 216s 2s/step - loss: 0.5801 - accuracy: 0.7339 - val_loss: 0.6368 - val_accuracy: 0.6829\n",
      "Epoch 5/5\n",
      "115/115 [==============================] - 214s 2s/step - loss: 0.5806 - accuracy: 0.7339 - val_loss: 0.6288 - val_accuracy: 0.6829\n"
     ]
    }
   ],
   "source": [
    "import tensorflow as tf\n",
    "from tensorflow.keras.applications import InceptionV3\n",
    "from tensorflow.keras.models import Sequential\n",
    "from tensorflow.keras.layers import Flatten, Dense, Dropout\n",
    "from tensorflow.keras.optimizers import SGD,Adam, Adagrad, RMSprop\n",
    "from tensorflow.keras.callbacks import TensorBoard\n",
    "\n",
    "# Load the pre-trained ResNet50 model\n",
    "base_model = InceptionV3(weights='imagenet', include_top=False, input_shape=(IMG_SIZE_1, IMG_SIZE_2, 3))\n",
    "\n",
    "# Freeze the pre-trained layers\n",
    "for layer in base_model.layers:\n",
    "    layer.trainable = False\n",
    "\n",
    "# Create a new model\n",
    "model = Sequential()\n",
    "\n",
    "# Add the ResNet50 base model to the new model\n",
    "model.add(base_model)\n",
    "\n",
    "# Add fully connected layers\n",
    "model.add(Flatten())\n",
    "model.add(Dense(256, activation='relu'))\n",
    "model.add(Dropout(0.5))\n",
    "model.add(Dense(64, activation='relu'))\n",
    "\n",
    "# Add the output layer\n",
    "num_classes=6\n",
    "model.add(Dense(num_classes, activation='softmax'))\n",
    "\n",
    "# Define the optimizers\n",
    "optimizers = {\n",
    "    'SGD' : SGD(learning_rate=0.01),\n",
    "    'Adam': Adam(learning_rate=0.01),\n",
    "    'Adagrad': Adagrad(learning_rate=0.01),\n",
    "    'RMSprop': RMSprop(learning_rate=0.01)\n",
    "}\n",
    "\n",
    "# Compile and train the model with different optimizers\n",
    "for optimizer_name, optimizer in optimizers.items():\n",
    "    model.compile(optimizer=optimizer, loss='sparse_categorical_crossentropy', metrics=['accuracy'])\n",
    "    \n",
    "    # Create a TensorBoard callback\n",
    "    NAME = \"TIG_InceptionV3_model_\"\n",
    "    tensorboard = TensorBoard(log_dir=f'logs_{optimizer_name}.format(NAME)')\n",
    "    \n",
    "    # Train the model with TensorBoard callback\n",
    "    model.fit(A, B, batch_size=10, epochs=5, validation_split=0.2, callbacks=[tensorboard])\n",
    "    \n",
    "    # Save the model\n",
    "    model.save(f'InceptionV3_model_{optimizer_name}.h5')\n"
   ]
  },
  {
   "cell_type": "code",
   "execution_count": null,
   "id": "722fddc1",
   "metadata": {},
   "outputs": [],
   "source": []
  }
 ],
 "metadata": {
  "kernelspec": {
   "display_name": "Python 3 (ipykernel)",
   "language": "python",
   "name": "python3"
  },
  "language_info": {
   "codemirror_mode": {
    "name": "ipython",
    "version": 3
   },
   "file_extension": ".py",
   "mimetype": "text/x-python",
   "name": "python",
   "nbconvert_exporter": "python",
   "pygments_lexer": "ipython3",
   "version": "3.8.16"
  }
 },
 "nbformat": 4,
 "nbformat_minor": 5
}
