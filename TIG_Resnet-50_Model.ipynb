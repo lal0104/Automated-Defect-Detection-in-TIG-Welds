{
 "cells": [
  {
   "cell_type": "code",
   "execution_count": 1,
   "id": "0a63feab",
   "metadata": {},
   "outputs": [],
   "source": [
    "import numpy as np\n",
    "import matplotlib.pyplot as plt\n",
    "import os\n",
    "import cv2\n",
    "import os\n",
    "import json\n",
    "from PIL import Image\n",
    "import pickle"
   ]
  },
  {
   "cell_type": "code",
   "execution_count": 2,
   "id": "f6dc5053",
   "metadata": {},
   "outputs": [],
   "source": [
    "A = np.array(pickle.load(open(\"D:/tig_welding_dataset/al5083/train_short/A.pickle\",\"rb\")))\n",
    "\n",
    "B= np.array(pickle.load(open(\"D:/tig_welding_dataset/al5083/train_short/B.pickle\",\"rb\")))"
   ]
  },
  {
   "cell_type": "code",
   "execution_count": 3,
   "id": "36a1228c",
   "metadata": {},
   "outputs": [],
   "source": [
    "IMG_SIZE_1=400\n",
    "IMG_SIZE_2=487"
   ]
  },
  {
   "cell_type": "code",
   "execution_count": 5,
   "id": "5f794b8f",
   "metadata": {},
   "outputs": [
    {
     "name": "stdout",
     "output_type": "stream",
     "text": [
      "Epoch 1/5\n",
      "115/115 [==============================] - 308s 3s/step - loss: 1210423605386601824256.0000 - accuracy: 0.6928 - val_loss: 1.4496 - val_accuracy: 0.6829\n",
      "Epoch 2/5\n",
      "115/115 [==============================] - 292s 3s/step - loss: 2821.3459 - accuracy: 0.7347 - val_loss: 1.2006 - val_accuracy: 0.6829\n",
      "Epoch 3/5\n",
      "115/115 [==============================] - 286s 2s/step - loss: 1.0753 - accuracy: 0.7339 - val_loss: 1.0578 - val_accuracy: 0.6829\n",
      "Epoch 4/5\n",
      "115/115 [==============================] - 285s 2s/step - loss: 0.9554 - accuracy: 0.7339 - val_loss: 0.9728 - val_accuracy: 0.6829\n",
      "Epoch 5/5\n",
      "115/115 [==============================] - 312s 3s/step - loss: 0.8812 - accuracy: 0.7339 - val_loss: 0.9169 - val_accuracy: 0.6829\n",
      "Epoch 1/5\n",
      "115/115 [==============================] - 368s 3s/step - loss: 0.7297 - accuracy: 0.7339 - val_loss: 0.7226 - val_accuracy: 0.6829\n",
      "Epoch 2/5\n",
      "115/115 [==============================] - 333s 3s/step - loss: 0.6361 - accuracy: 0.7339 - val_loss: 0.6764 - val_accuracy: 0.6829\n",
      "Epoch 3/5\n",
      "115/115 [==============================] - 351s 3s/step - loss: 0.6103 - accuracy: 0.7339 - val_loss: 0.6536 - val_accuracy: 0.6829\n",
      "Epoch 4/5\n",
      "115/115 [==============================] - 324s 3s/step - loss: 0.5997 - accuracy: 0.7339 - val_loss: 0.6506 - val_accuracy: 0.6829\n",
      "Epoch 5/5\n",
      "115/115 [==============================] - 327s 3s/step - loss: 0.5940 - accuracy: 0.7339 - val_loss: 0.6387 - val_accuracy: 0.6829\n",
      "Epoch 1/5\n",
      "115/115 [==============================] - 315s 3s/step - loss: 0.5926 - accuracy: 0.7339 - val_loss: 0.6404 - val_accuracy: 0.6829\n",
      "Epoch 2/5\n",
      "115/115 [==============================] - 321s 3s/step - loss: 0.5918 - accuracy: 0.7339 - val_loss: 0.6409 - val_accuracy: 0.6829\n",
      "Epoch 3/5\n",
      "115/115 [==============================] - 324s 3s/step - loss: 0.5915 - accuracy: 0.7339 - val_loss: 0.6411 - val_accuracy: 0.6829\n",
      "Epoch 4/5\n",
      "115/115 [==============================] - 320s 3s/step - loss: 0.5912 - accuracy: 0.7339 - val_loss: 0.6413 - val_accuracy: 0.6829\n",
      "Epoch 5/5\n",
      "115/115 [==============================] - 321s 3s/step - loss: 0.5910 - accuracy: 0.7339 - val_loss: 0.6414 - val_accuracy: 0.6829\n",
      "Epoch 1/5\n",
      "115/115 [==============================] - 437s 4s/step - loss: 0.5865 - accuracy: 0.7339 - val_loss: 0.6340 - val_accuracy: 0.6829\n",
      "Epoch 2/5\n",
      "115/115 [==============================] - 416s 4s/step - loss: 0.5822 - accuracy: 0.7339 - val_loss: 0.6310 - val_accuracy: 0.6829\n",
      "Epoch 3/5\n",
      "115/115 [==============================] - 423s 4s/step - loss: 0.5812 - accuracy: 0.7339 - val_loss: 0.6323 - val_accuracy: 0.6829\n",
      "Epoch 4/5\n",
      "115/115 [==============================] - 409s 4s/step - loss: 0.5806 - accuracy: 0.7339 - val_loss: 0.6286 - val_accuracy: 0.6829\n",
      "Epoch 5/5\n",
      "115/115 [==============================] - 400s 3s/step - loss: 0.5804 - accuracy: 0.7339 - val_loss: 0.6291 - val_accuracy: 0.6829\n"
     ]
    }
   ],
   "source": [
    "import tensorflow as tf\n",
    "from tensorflow.keras.applications import ResNet50\n",
    "from tensorflow.keras.models import Sequential\n",
    "from tensorflow.keras.layers import Flatten, Dense, Dropout\n",
    "from tensorflow.keras.optimizers import SGD,Adam, Adagrad, RMSprop\n",
    "from tensorflow.keras.callbacks import TensorBoard\n",
    "\n",
    "# Load the pre-trained ResNet50 model\n",
    "base_model = ResNet50(weights='imagenet', include_top=False, input_shape=(IMG_SIZE_1, IMG_SIZE_2, 3))\n",
    "\n",
    "# Freeze the pre-trained layers\n",
    "for layer in base_model.layers:\n",
    "    layer.trainable = False\n",
    "\n",
    "# Create a new model\n",
    "model = Sequential()\n",
    "\n",
    "# Add the ResNet50 base model to the new model\n",
    "model.add(base_model)\n",
    "\n",
    "# Add fully connected layers\n",
    "model.add(Flatten())\n",
    "model.add(Dense(256, activation='relu'))\n",
    "model.add(Dropout(0.5))\n",
    "model.add(Dense(64, activation='relu'))\n",
    "\n",
    "# Add the output layer\n",
    "num_classes=6\n",
    "model.add(Dense(num_classes, activation='softmax'))\n",
    "\n",
    "# Define the optimizers\n",
    "optimizers = {\n",
    "    'SGD' : SGD(learning_rate=0.01),\n",
    "    'Adam': Adam(learning_rate=0.01),\n",
    "    'Adagrad': Adagrad(learning_rate=0.01),\n",
    "    'RMSprop': RMSprop(learning_rate=0.01)\n",
    "}\n",
    "\n",
    "# Compile and train the model with different optimizers\n",
    "for optimizer_name, optimizer in optimizers.items():\n",
    "    model.compile(optimizer=optimizer, loss='sparse_categorical_crossentropy', metrics=['accuracy'])\n",
    "    \n",
    "    # Create a TensorBoard callback\n",
    "    tensorboard = TensorBoard(log_dir=f'logs_{optimizer_name}')\n",
    "    \n",
    "    # Train the model with TensorBoard callback\n",
    "    model.fit(A, B, batch_size=10, epochs=5, validation_split=0.2, callbacks=[tensorboard])\n",
    "    \n",
    "    # Save the model\n",
    "    model.save(f'resnet50_model_{optimizer_name}.h5')\n"
   ]
  },
  {
   "cell_type": "code",
   "execution_count": null,
   "id": "132d4e8f",
   "metadata": {},
   "outputs": [],
   "source": []
  }
 ],
 "metadata": {
  "kernelspec": {
   "display_name": "Python 3 (ipykernel)",
   "language": "python",
   "name": "python3"
  },
  "language_info": {
   "codemirror_mode": {
    "name": "ipython",
    "version": 3
   },
   "file_extension": ".py",
   "mimetype": "text/x-python",
   "name": "python",
   "nbconvert_exporter": "python",
   "pygments_lexer": "ipython3",
   "version": "3.8.16"
  }
 },
 "nbformat": 4,
 "nbformat_minor": 5
}
