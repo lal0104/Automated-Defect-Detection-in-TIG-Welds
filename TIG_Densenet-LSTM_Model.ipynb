{
 "cells": [
  {
   "cell_type": "code",
   "execution_count": 29,
   "id": "332d75b0",
   "metadata": {},
   "outputs": [],
   "source": [
    "import numpy as np\n",
    "import matplotlib.pyplot as plt\n",
    "import os\n",
    "import cv2\n",
    "import os\n",
    "import json\n",
    "from PIL import Image\n",
    "import pickle"
   ]
  },
  {
   "cell_type": "code",
   "execution_count": 30,
   "id": "b0683f95",
   "metadata": {},
   "outputs": [],
   "source": [
    "A = np.array(pickle.load(open(\"D:/A.pickle\",\"rb\")))\n",
    "\n",
    "B= np.array(pickle.load(open(\"D:/B.pickle\",\"rb\")))"
   ]
  },
  {
   "cell_type": "code",
   "execution_count": 16,
   "id": "24a2633d",
   "metadata": {},
   "outputs": [
    {
     "name": "stdout",
     "output_type": "stream",
     "text": [
      "4\n"
     ]
    }
   ],
   "source": [
    "#print(A.ndim)"
   ]
  },
  {
   "cell_type": "code",
   "execution_count": 31,
   "id": "63d0a6d5",
   "metadata": {},
   "outputs": [],
   "source": [
    "IMG_SIZE_1=250\n",
    "IMG_SIZE_2=250"
   ]
  },
  {
   "cell_type": "code",
   "execution_count": 36,
   "id": "e05824a3",
   "metadata": {},
   "outputs": [
    {
     "name": "stdout",
     "output_type": "stream",
     "text": [
      "Epoch 1/5\n",
      "2134/2134 [==============================] - 2552s 1s/step - loss: 0.4570 - accuracy: 0.9104 - val_loss: 0.1150 - val_accuracy: 0.9880\n",
      "Epoch 2/5\n",
      "2134/2134 [==============================] - 2309s 1s/step - loss: 0.0790 - accuracy: 0.9886 - val_loss: 0.0395 - val_accuracy: 0.9944\n",
      "Epoch 3/5\n",
      "2134/2134 [==============================] - 2324s 1s/step - loss: 0.0450 - accuracy: 0.9923 - val_loss: 0.0288 - val_accuracy: 0.9972\n",
      "Epoch 4/5\n",
      "2134/2134 [==============================] - 2215s 1s/step - loss: 0.0339 - accuracy: 0.9942 - val_loss: 0.0247 - val_accuracy: 0.9953\n",
      "Epoch 5/5\n",
      "2134/2134 [==============================] - 2168s 1s/step - loss: 0.0253 - accuracy: 0.9954 - val_loss: 0.0177 - val_accuracy: 0.9974\n"
     ]
    }
   ],
   "source": [
    "import tensorflow as tf\n",
    "from tensorflow.keras.applications import DenseNet169\n",
    "from tensorflow.keras.models import Sequential\n",
    "from tensorflow.keras.layers import Dense, Dropout, LSTM, Flatten,Reshape\n",
    "from tensorflow.keras.optimizers import SGD\n",
    "from tensorflow.keras.callbacks import TensorBoard\n",
    "# Load the pre-trained DenseNet-169 model\n",
    "base_model = DenseNet169(weights='imagenet', include_top=False, input_shape=(IMG_SIZE_1, IMG_SIZE_2, 3))\n",
    "\n",
    "# Freeze the pre-trained layers\n",
    "for layer in base_model.layers:\n",
    "    layer.trainable = False\n",
    "\n",
    "# Create a new model\n",
    "model = Sequential()\n",
    "\n",
    "# Add the DenseNet-169 base model to the new model\n",
    "model.add(base_model)\n",
    "\n",
    "# Add a pooling layer to reduce the spatial dimensions\n",
    "model.add(Flatten())\n",
    "\n",
    "# Add the LSTM layer\n",
    "model.add(Reshape((1, -1)))  # Reshape to (1, flattened_features)\n",
    "model.add(LSTM(64))\n",
    "\n",
    "# Add fully connected layers\n",
    "model.add(Dense(256, activation='relu'))\n",
    "model.add(Dense(64, activation='relu'))\n",
    "\n",
    "# Add the output layer\n",
    "num_classes=6\n",
    "model.add(Dense(num_classes, activation='softmax'))\n",
    "\n",
    "# Define the optimizer\n",
    "optimizer = SGD(learning_rate=0.001)\n",
    "\n",
    "# Compile the model\n",
    "model.compile(optimizer=optimizer, loss='sparse_categorical_crossentropy', metrics=['accuracy'])\n",
    "\n",
    "# Print the model summary\n",
    "#model.summary()\n",
    "\n",
    "# Create a TensorBoard callback\n",
    "NAME = \"TIG_DenseNet169-LSTM_model_\"\n",
    "\n",
    "tensorboard = TensorBoard(log_dir=\"logs/{}\".format(NAME))\n",
    "\n",
    "# Train the model with TensorBoard callback\n",
    "model.fit(A, B, batch_size=10, epochs=5, validation_split=0.2, callbacks=[tensorboard])\n",
    "    \n",
    "# Save the model\n",
    "model.save(f'DenseNet169-LSTM.h5')"
   ]
  },
  {
   "cell_type": "code",
   "execution_count": null,
   "id": "ef5a8ca8",
   "metadata": {},
   "outputs": [],
   "source": []
  }
 ],
 "metadata": {
  "kernelspec": {
   "display_name": "Python 3 (ipykernel)",
   "language": "python",
   "name": "python3"
  },
  "language_info": {
   "codemirror_mode": {
    "name": "ipython",
    "version": 3
   },
   "file_extension": ".py",
   "mimetype": "text/x-python",
   "name": "python",
   "nbconvert_exporter": "python",
   "pygments_lexer": "ipython3",
   "version": "3.8.16"
  }
 },
 "nbformat": 4,
 "nbformat_minor": 5
}
