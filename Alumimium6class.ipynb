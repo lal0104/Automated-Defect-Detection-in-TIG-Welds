{
 "cells": [
  {
   "cell_type": "code",
   "execution_count": 2,
   "id": "4206610b",
   "metadata": {},
   "outputs": [],
   "source": [
    "import numpy as np\n",
    "import os\n",
    "import cv2\n",
    "import os\n",
    "import json\n",
    "from PIL import Image\n",
    "import pickle"
   ]
  },
  {
   "cell_type": "code",
   "execution_count": 3,
   "id": "7cf5a849",
   "metadata": {},
   "outputs": [],
   "source": [
    "A = np.array(pickle.load(open(\"D:/A.pickle\",\"rb\")))\n",
    "\n",
    "B= np.array(pickle.load(open(\"D:/B.pickle\",\"rb\")))"
   ]
  },
  {
   "cell_type": "code",
   "execution_count": 4,
   "id": "a1017079",
   "metadata": {},
   "outputs": [],
   "source": [
    "IMG_SIZE_1=250\n",
    "IMG_SIZE_2=250"
   ]
  },
  {
   "cell_type": "code",
   "execution_count": 5,
   "id": "b2aebe1d",
   "metadata": {},
   "outputs": [],
   "source": [
    "import tensorflow as tf\n",
    "from tensorflow.keras.applications.vgg19 import VGG19\n",
    "from tensorflow.keras.applications.vgg19 import preprocess_input\n",
    "from tensorflow.keras.preprocessing.image import ImageDataGenerator\n",
    "from tensorflow.keras.models import Sequential\n",
    "from tensorflow.keras.layers import Flatten, Dense, Dropout,BatchNormalization\n",
    "from tensorflow.keras.optimizers import SGD\n",
    "from tensorflow.keras.utils import to_categorical"
   ]
  },
  {
   "cell_type": "code",
   "execution_count": 6,
   "id": "fbfa0caf",
   "metadata": {},
   "outputs": [],
   "source": [
    "A=A/255.0\n",
    "B = to_categorical(B, num_classes = 6)"
   ]
  },
  {
   "cell_type": "code",
   "execution_count": 9,
   "id": "f3ec1c7d",
   "metadata": {},
   "outputs": [],
   "source": [
    "base_model = VGG19(weights='imagenet', include_top=False, input_shape=(IMG_SIZE_1, IMG_SIZE_2, 3))"
   ]
  },
  {
   "cell_type": "code",
   "execution_count": 10,
   "id": "000bf8cd",
   "metadata": {},
   "outputs": [
    {
     "data": {
      "text/plain": [
       "<tf.Tensor 'input_1:0' shape=(None, 250, 250, 3) dtype=float32>"
      ]
     },
     "execution_count": 10,
     "metadata": {},
     "output_type": "execute_result"
    }
   ],
   "source": [
    "base_model.input"
   ]
  },
  {
   "cell_type": "code",
   "execution_count": 12,
   "id": "76fd5045",
   "metadata": {},
   "outputs": [
    {
     "name": "stdout",
     "output_type": "stream",
     "text": [
      "Epoch 1/8\n",
      "667/667 [==============================] - 288s 432ms/step - loss: 0.3012 - accuracy: 0.9012 - val_loss: 0.0311 - val_accuracy: 0.9893\n",
      "Epoch 2/8\n",
      "667/667 [==============================] - 247s 371ms/step - loss: 0.0976 - accuracy: 0.9709 - val_loss: 0.0216 - val_accuracy: 0.9925\n",
      "Epoch 3/8\n",
      "667/667 [==============================] - 244s 366ms/step - loss: 0.0567 - accuracy: 0.9836 - val_loss: 0.0086 - val_accuracy: 0.9976\n",
      "Epoch 4/8\n",
      "667/667 [==============================] - 244s 366ms/step - loss: 0.0436 - accuracy: 0.9874 - val_loss: 0.0075 - val_accuracy: 0.9976\n",
      "Epoch 5/8\n",
      "667/667 [==============================] - 245s 367ms/step - loss: 0.0342 - accuracy: 0.9903 - val_loss: 0.0069 - val_accuracy: 0.9979\n",
      "Epoch 6/8\n",
      "667/667 [==============================] - 546s 818ms/step - loss: 0.0385 - accuracy: 0.9888 - val_loss: 0.0050 - val_accuracy: 0.9985\n",
      "Epoch 7/8\n",
      "667/667 [==============================] - 246s 368ms/step - loss: 0.0289 - accuracy: 0.9917 - val_loss: 0.0121 - val_accuracy: 0.9957\n",
      "Epoch 8/8\n",
      "667/667 [==============================] - 245s 367ms/step - loss: 0.0255 - accuracy: 0.9927 - val_loss: 0.1146 - val_accuracy: 0.9616\n"
     ]
    },
    {
     "data": {
      "text/plain": [
       "<tensorflow.python.keras.callbacks.History at 0x230d8d85d30>"
      ]
     },
     "execution_count": 12,
     "metadata": {},
     "output_type": "execute_result"
    }
   ],
   "source": [
    "#VGG-19\n",
    "\n",
    "base_model = VGG19(weights='imagenet', include_top=False, input_shape=(IMG_SIZE_1, IMG_SIZE_2, 3))\n",
    "\n",
    "# Freeze the pre-trained layers\n",
    "for layer in base_model.layers:\n",
    "    layer.trainable = False\n",
    "\n",
    "# Create a new model\n",
    "model = Sequential()\n",
    "\n",
    "# Add the base model to the new model\n",
    "model.add(base_model)\n",
    "\n",
    "# Add fully connected layers\n",
    "model.add(Flatten())\n",
    "model.add(Dense(512, activation = 'relu'))\n",
    "model.add(BatchNormalization())\n",
    "model.add(Dropout(0.5))\n",
    "model.add(Dense(256, activation = 'relu'))\n",
    "model.add(BatchNormalization())\n",
    "model.add(Dropout(0.5))\n",
    "model.add(Dense(128, activation = 'relu'))\n",
    "model.add(BatchNormalization())\n",
    "model.add(Dropout(0.25))\n",
    "\n",
    "# Add the output layer\n",
    "num_classes=6\n",
    "model.add(Dense(num_classes, activation='softmax'))\n",
    "\n",
    "#model.summary()\n",
    "\n",
    "# Define the optimizer\n",
    "optimizer = SGD(learning_rate=0.01)\n",
    "\n",
    "# Compile the model\n",
    "model.compile(optimizer=optimizer, loss='categorical_crossentropy', metrics=['accuracy'])\n",
    "\n",
    "# Create a TensorBoard callback\n",
    "#NAME = \"TIG_VGG16_6\"\n",
    "\n",
    "#tensorboard = TensorBoard(log_dir=\"logs/{}\".format(NAME))\n",
    "    \n",
    "#Train the model with TensorBoard callback\n",
    "model.fit(A, B, batch_size=32, epochs=8, validation_split=0.2)\n",
    "    \n",
    "# Save the model\n",
    "#model.save(f'VGG16_model.h5')"
   ]
  },
  {
   "cell_type": "code",
   "execution_count": 18,
   "id": "904841f4",
   "metadata": {},
   "outputs": [
    {
     "name": "stdout",
     "output_type": "stream",
     "text": [
      "Epoch 1/6\n",
      "667/667 [==============================] - 266s 399ms/step - loss: 0.2795 - accuracy: 0.9109 - val_loss: 0.0291 - val_accuracy: 0.9904\n",
      "Epoch 2/6\n",
      "667/667 [==============================] - 209s 313ms/step - loss: 0.0832 - accuracy: 0.9754 - val_loss: 0.0607 - val_accuracy: 0.9781\n",
      "Epoch 3/6\n",
      "667/667 [==============================] - 208s 312ms/step - loss: 0.0548 - accuracy: 0.9838 - val_loss: 0.0052 - val_accuracy: 0.9987\n",
      "Epoch 4/6\n",
      "667/667 [==============================] - 209s 314ms/step - loss: 0.0447 - accuracy: 0.9872 - val_loss: 0.0049 - val_accuracy: 0.9996\n",
      "Epoch 5/6\n",
      "667/667 [==============================] - 210s 315ms/step - loss: 0.0327 - accuracy: 0.9906 - val_loss: 0.0057 - val_accuracy: 0.9981\n",
      "Epoch 6/6\n",
      "667/667 [==============================] - 211s 316ms/step - loss: 0.0281 - accuracy: 0.9915 - val_loss: 0.0068 - val_accuracy: 0.9974\n"
     ]
    },
    {
     "data": {
      "text/plain": [
       "<tensorflow.python.keras.callbacks.History at 0x22fa11a2220>"
      ]
     },
     "execution_count": 18,
     "metadata": {},
     "output_type": "execute_result"
    }
   ],
   "source": [
    "#VGG-16\n",
    "from tensorflow.keras.applications.vgg16 import VGG16\n",
    "# Load the pre-trained VGG16 model\n",
    "base_model = VGG16(weights='imagenet', include_top=False, input_shape=(IMG_SIZE_1, IMG_SIZE_2, 3))\n",
    "\n",
    "# Freeze the pre-trained layers\n",
    "for layer in base_model.layers:\n",
    "    layer.trainable = False\n",
    "\n",
    "# Create a new model\n",
    "model = Sequential()\n",
    "\n",
    "# Add the VGG19 base model to the new model\n",
    "model.add(base_model)\n",
    "\n",
    "# Add fully connected layers\n",
    "model.add(Flatten())\n",
    "model.add(Dense(512, activation = 'relu'))\n",
    "model.add(BatchNormalization())\n",
    "model.add(Dropout(0.5))\n",
    "model.add(Dense(256, activation = 'relu'))\n",
    "model.add(BatchNormalization())\n",
    "model.add(Dropout(0.5))\n",
    "model.add(Dense(128, activation = 'relu'))\n",
    "model.add(BatchNormalization())\n",
    "model.add(Dropout(0.25))\n",
    "\n",
    "# Add the output layer\n",
    "num_classes=6\n",
    "model.add(Dense(num_classes, activation='softmax'))\n",
    "\n",
    "# Define the optimizer\n",
    "optimizer = SGD(learning_rate=0.01)\n",
    "\n",
    "# Compile the model\n",
    "model.compile(optimizer=optimizer, loss='categorical_crossentropy', metrics=['accuracy'])\n",
    "\n",
    "# Create a TensorBoard callback\n",
    "#NAME = \"TIG_VGG19_6\"\n",
    "\n",
    "#tensorboard = TensorBoard(log_dir=\"logs/{}\".format(NAME))\n",
    "    \n",
    "# Train the model with TensorBoard callback\n",
    "model.fit(A, B, batch_size=32, epochs=6, validation_split=0.2)\n",
    "    \n",
    "# Save the model\n",
    "#model.save(f'VGG19_model.h5')"
   ]
  },
  {
   "cell_type": "code",
   "execution_count": 7,
   "id": "db489533",
   "metadata": {},
   "outputs": [
    {
     "name": "stdout",
     "output_type": "stream",
     "text": [
      "Epoch 1/6\n",
      "667/667 [==============================] - 312s 467ms/step - loss: 0.2381 - accuracy: 0.9256 - val_loss: 0.0175 - val_accuracy: 0.9959\n",
      "Epoch 2/6\n",
      "667/667 [==============================] - 717s 1s/step - loss: 0.0617 - accuracy: 0.9828 - val_loss: 0.0059 - val_accuracy: 0.9989\n",
      "Epoch 3/6\n",
      "667/667 [==============================] - 588s 882ms/step - loss: 0.0390 - accuracy: 0.9898 - val_loss: 0.0041 - val_accuracy: 0.9991\n",
      "Epoch 4/6\n",
      "667/667 [==============================] - 189s 283ms/step - loss: 0.0321 - accuracy: 0.9914 - val_loss: 0.0035 - val_accuracy: 0.9987\n",
      "Epoch 5/6\n",
      "667/667 [==============================] - 190s 284ms/step - loss: 0.0232 - accuracy: 0.9943 - val_loss: 0.0034 - val_accuracy: 0.9987\n",
      "Epoch 6/6\n",
      "667/667 [==============================] - 189s 284ms/step - loss: 0.0230 - accuracy: 0.9938 - val_loss: 0.0040 - val_accuracy: 0.9989\n"
     ]
    },
    {
     "data": {
      "text/plain": [
       "<tensorflow.python.keras.callbacks.History at 0x21d0db0e3d0>"
      ]
     },
     "execution_count": 7,
     "metadata": {},
     "output_type": "execute_result"
    }
   ],
   "source": [
    "#DenseNet169\n",
    "\n",
    "from tensorflow.keras.applications import DenseNet169\n",
    "\n",
    "# Load the pre-trained ResNet50 model\n",
    "base_model = DenseNet169(weights='imagenet', include_top=False, input_shape=(IMG_SIZE_1, IMG_SIZE_2, 3))\n",
    "\n",
    "# Freeze the pre-trained layers\n",
    "for layer in base_model.layers:\n",
    "    layer.trainable = False\n",
    "\n",
    "# Create a new model\n",
    "model = Sequential()\n",
    "\n",
    "# Add the ResNet50 base model to the new model\n",
    "model.add(base_model)\n",
    "\n",
    "# Add fully connected layers\n",
    "model.add(Flatten())\n",
    "model.add(Dense(512, activation = 'relu'))\n",
    "model.add(BatchNormalization())\n",
    "model.add(Dropout(0.5))\n",
    "model.add(Dense(256, activation = 'relu'))\n",
    "model.add(BatchNormalization())\n",
    "model.add(Dropout(0.5))\n",
    "model.add(Dense(128, activation = 'relu'))\n",
    "model.add(BatchNormalization())\n",
    "model.add(Dropout(0.25))\n",
    "\n",
    "# Add the output layer\n",
    "num_classes=6\n",
    "model.add(Dense(num_classes, activation='softmax'))\n",
    "\n",
    "# Define the optimizer\n",
    "optimizer = SGD(learning_rate=0.01)\n",
    "\n",
    "# Compile the model\n",
    "model.compile(optimizer=optimizer, loss='categorical_crossentropy', metrics=['accuracy'])\n",
    "\n",
    "# Create a TensorBoard callback\n",
    "#NAME = \"TIG_DenseNet169_6\"\n",
    "\n",
    "#tensorboard = TensorBoard(log_dir=\"logs/{}\".format(NAME))\n",
    "    \n",
    "# Train the model with TensorBoard callback\n",
    "model.fit(A, B, batch_size=32, epochs=6, validation_split=0.2)\n",
    "    \n",
    "# Save the model\n",
    "#model.save(f'DenseNet169_model.h5')"
   ]
  },
  {
   "cell_type": "code",
   "execution_count": 12,
   "id": "ad2816dd",
   "metadata": {},
   "outputs": [
    {
     "name": "stdout",
     "output_type": "stream",
     "text": [
      "Epoch 1/5\n",
      "2134/2134 [==============================] - 229s 107ms/step - loss: 0.5468 - accuracy: 0.8041 - val_loss: 12.4841 - val_accuracy: 0.3583\n",
      "Epoch 2/5\n",
      "2134/2134 [==============================] - 197s 93ms/step - loss: 0.2712 - accuracy: 0.9070 - val_loss: 12.5397 - val_accuracy: 0.2417\n",
      "Epoch 3/5\n",
      "2134/2134 [==============================] - 196s 92ms/step - loss: 0.2096 - accuracy: 0.9293 - val_loss: 2.2337 - val_accuracy: 0.6742\n",
      "Epoch 4/5\n",
      "2134/2134 [==============================] - 197s 92ms/step - loss: 0.1721 - accuracy: 0.9434 - val_loss: 2.2755 - val_accuracy: 0.5726\n",
      "Epoch 5/5\n",
      "2134/2134 [==============================] - 196s 92ms/step - loss: 0.1467 - accuracy: 0.9525 - val_loss: 39.5591 - val_accuracy: 0.2381\n"
     ]
    },
    {
     "data": {
      "text/plain": [
       "<tensorflow.python.keras.callbacks.History at 0x21d82c7fac0>"
      ]
     },
     "execution_count": 12,
     "metadata": {},
     "output_type": "execute_result"
    }
   ],
   "source": [
    "#Resnet-50\n",
    "\n",
    "from tensorflow.keras.applications import ResNet50\n",
    "\n",
    "# Load the pre-trained ResNet50 model\n",
    "base_model = ResNet50(weights='imagenet', include_top=False, input_shape=(IMG_SIZE_1, IMG_SIZE_2, 3))\n",
    "\n",
    "# Freeze the pre-trained layers\n",
    "for layer in base_model.layers:\n",
    "    layer.trainable = False\n",
    "\n",
    "# Create a new model\n",
    "model = Sequential()\n",
    "\n",
    "# Add the ResNet50 base model to the new model\n",
    "model.add(base_model)\n",
    "\n",
    "# Add fully connected layers\n",
    "model.add(Flatten())\n",
    "model.add(Dense(512, activation = 'relu'))\n",
    "model.add(BatchNormalization())\n",
    "model.add(Dropout(0.5))\n",
    "model.add(Dense(256, activation = 'relu'))\n",
    "model.add(BatchNormalization())\n",
    "model.add(Dropout(0.5))\n",
    "model.add(Dense(128, activation = 'relu'))\n",
    "model.add(BatchNormalization())\n",
    "model.add(Dropout(0.25))\n",
    "\n",
    "# Add the output layer\n",
    "num_classes=6\n",
    "model.add(Dense(num_classes, activation='softmax'))\n",
    "\n",
    "# Define the optimizer\n",
    "optimizer = SGD(learning_rate=0.01)\n",
    "\n",
    "# Compile the model\n",
    "model.compile(optimizer=optimizer, loss='categorical_crossentropy', metrics=['accuracy'])\n",
    "\n",
    "# Create a TensorBoard callback\n",
    "#NAME = \"TIG_Resnet50_6model_\"\n",
    "\n",
    "#tensorboard = TensorBoard(log_dir=\"logs/{}\".format(NAME))\n",
    "    \n",
    "# Train the model with TensorBoard callback\n",
    "model.fit(A, B, batch_size=10, epochs=5, validation_split=0.2)\n",
    "    \n",
    "# Save the model\n",
    "#model.save(f'resnet50_model.h5')\n"
   ]
  },
  {
   "cell_type": "code",
   "execution_count": 13,
   "id": "5bd8a088",
   "metadata": {},
   "outputs": [
    {
     "name": "stdout",
     "output_type": "stream",
     "text": [
      "Epoch 1/5\n",
      "2134/2134 [==============================] - 339s 159ms/step - loss: 0.3434 - accuracy: 0.8889 - val_loss: 0.0264 - val_accuracy: 0.9927\n",
      "Epoch 2/5\n",
      "2134/2134 [==============================] - 1366s 640ms/step - loss: 0.1313 - accuracy: 0.9560 - val_loss: 0.0117 - val_accuracy: 0.9964\n",
      "Epoch 3/5\n",
      "2134/2134 [==============================] - 187s 88ms/step - loss: 0.0992 - accuracy: 0.9700 - val_loss: 1.1791 - val_accuracy: 0.8594\n",
      "Epoch 4/5\n",
      "2134/2134 [==============================] - 187s 87ms/step - loss: 0.0799 - accuracy: 0.9752 - val_loss: 0.0059 - val_accuracy: 0.9985\n",
      "Epoch 5/5\n",
      "2134/2134 [==============================] - 188s 88ms/step - loss: 0.0740 - accuracy: 0.9760 - val_loss: 0.0083 - val_accuracy: 0.9978\n"
     ]
    },
    {
     "data": {
      "text/plain": [
       "<tensorflow.python.keras.callbacks.History at 0x21d395885e0>"
      ]
     },
     "execution_count": 13,
     "metadata": {},
     "output_type": "execute_result"
    }
   ],
   "source": [
    "#Inseption-V-3\n",
    "\n",
    "from tensorflow.keras.applications import InceptionV3\n",
    "\n",
    "# Load the pre-trained ResNet50 model\n",
    "base_model = InceptionV3(weights='imagenet', include_top=False, input_shape=(IMG_SIZE_1, IMG_SIZE_2, 3))\n",
    "\n",
    "# Freeze the pre-trained layers\n",
    "for layer in base_model.layers:\n",
    "    layer.trainable = False\n",
    "\n",
    "# Create a new model\n",
    "model = Sequential()\n",
    "\n",
    "# Add the ResNet50 base model to the new model\n",
    "model.add(base_model)\n",
    "\n",
    "# Add fully connected layers\n",
    "model.add(Flatten())\n",
    "model.add(Dense(512, activation = 'relu'))\n",
    "model.add(BatchNormalization())\n",
    "model.add(Dropout(0.5))\n",
    "model.add(Dense(256, activation = 'relu'))\n",
    "model.add(BatchNormalization())\n",
    "model.add(Dropout(0.5))\n",
    "model.add(Dense(128, activation = 'relu'))\n",
    "model.add(BatchNormalization())\n",
    "model.add(Dropout(0.25))\n",
    "\n",
    "# Add the output layer\n",
    "num_classes=6\n",
    "model.add(Dense(num_classes, activation='softmax'))\n",
    "\n",
    "# Define the optimizer\n",
    "optimizer = SGD(learning_rate=0.01)\n",
    "\n",
    "# Compile the model\n",
    "model.compile(optimizer=optimizer, loss='categorical_crossentropy', metrics=['accuracy'])\n",
    "\n",
    "# Create a TensorBoard callback\n",
    "#NAME = \"TIG_InceptionV3_model_\"\n",
    "\n",
    "#tensorboard = TensorBoard(log_dir=\"logs/{}\".format(NAME))\n",
    "\n",
    "# Train the model with TensorBoard callback\n",
    "model.fit(A, B, batch_size=10, epochs=5, validation_split=0.2)\n",
    "    \n",
    "# Save the model\n",
    "#model.save(f'InceptionV3_modelh5')"
   ]
  },
  {
   "cell_type": "code",
   "execution_count": 19,
   "id": "b3e68ebe",
   "metadata": {},
   "outputs": [],
   "source": [
    "from tensorflow.keras.callbacks import ModelCheckpoint"
   ]
  }
 ],
 "metadata": {
  "kernelspec": {
   "display_name": "gpu1",
   "language": "python",
   "name": "gpu1"
  },
  "language_info": {
   "codemirror_mode": {
    "name": "ipython",
    "version": 3
   },
   "file_extension": ".py",
   "mimetype": "text/x-python",
   "name": "python",
   "nbconvert_exporter": "python",
   "pygments_lexer": "ipython3",
   "version": "3.8.16"
  }
 },
 "nbformat": 4,
 "nbformat_minor": 5
}
